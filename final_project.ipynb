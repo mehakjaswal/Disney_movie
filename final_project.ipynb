{
 "cells": [
  {
   "cell_type": "markdown",
   "metadata": {},
   "source": [
    "# Programming in Python for Data Science"
   ]
  },
  {
   "cell_type": "markdown",
   "metadata": {},
   "source": [
    "# Final Project"
   ]
  },
  {
   "cell_type": "markdown",
   "metadata": {},
   "source": [
    "##Submitted by : Aditi Jaswal"
   ]
  },
  {
   "cell_type": "markdown",
   "metadata": {},
   "source": [
    "# Foreword"
   ]
  },
  {
   "cell_type": "markdown",
   "metadata": {},
   "source": [
    "##This notebook will be showing some exploratory data analysis for the Disney dataset located https://data.world/kgarrett/disney-character-success-00-16. We will explore about the data and then find important questions. Later in the notebook, we will try to answer those questions using descriptive analysis"
   ]
  },
  {
   "cell_type": "markdown",
   "metadata": {},
   "source": [
    "# About the dataset"
   ]
  },
  {
   "cell_type": "markdown",
   "metadata": {},
   "source": [
    "##There are 5 datasets related to disney, i.e, movies, characters, revenue, directors and voice-actors. My main analysis is for disney movie dataset. Walt Disney Studios serves as the cornerstone upon which The Walt Disney Company was established. Over the years, this division has been responsible for the creation of a vast catalog of over 600 films, with its inaugural release, \"Snow White and the Seven Dwarfs,\" dating back to 1937. While a significant number of these cinematic endeavors achieved great success, a few encountered less favorable outcomes. This notebook embarks on an exploration of a dataset encompassing Disney movies, aiming to delve into the factors that underlie the success of these cinematic productions.[website](  https://goodboychan.github.io/python/datacamp/data_science/machine_learning/statistics/2020/08/23/01-Disney-Movies-and-Box-Office-Success.html )\n",
    "\n",
    "I am going to use 3 datasets, i.e,\n",
    "* **disney_movies_total_gross.csv**\n",
    "* **disney-director.csv**\n",
    "* **disney-voice-actor.csv**\n",
    "\n",
    "In **disney_movies_total_gross.csv** , there are 6 columns, i.e, movie_title(title of the movie), release_date(date of release for the movie), genre(drama, adventure, musical, comedy, action) MPAA_rating(PG, PG-13, R, G) total_gross(total box office collection), inflation_adjusted_gross(Actual profit made by the movie) \n",
    "\n",
    "In **disney-director.csv**, 2 columns,i.e Name(Name of the movie) and director(director of the movie) are there.\n",
    "\n",
    "In **disney-voice-actor.csv**, 3 columns, character(character name whose voice is given), voice actor(name of the voice actor) and movie(Name of the movie)are there. \n"
   ]
  },
  {
   "cell_type": "markdown",
   "metadata": {},
   "source": [
    "# Questions of Interest"
   ]
  },
  {
   "cell_type": "markdown",
   "metadata": {},
   "source": [
    "#### In this notebook, I will be finding top 10 movies which did best business on box office, best movie from each genre. Also, I will be exploring if MPAA_rating impacted the popularity of movies or not. \n",
    "#### Also, I am going to check the popularity trends for all 5 genre in disney movies. \n",
    "#### For, director and voice datasets, I am going to merge them in one dataset and explore which director used maximum number of voice artists, and the movie which used maximum number of voice artists"
   ]
  },
  {
   "cell_type": "markdown",
   "metadata": {},
   "source": [
    "# Import libraries needed for this lab\n",
    "import pandas as pd\n",
    "import random\n",
    "import test_assignment6 as t\n",
    "import altair as alt\n",
    "import string\n",
    "import inspect\n",
    "from hashlib import sha1"
   ]
  },
  {
   "cell_type": "code",
   "execution_count": null,
   "metadata": {},
   "outputs": [],
   "source": [
    "# Import libraries needed for this lab\n",
    "import pandas as pd\n",
    "import random\n",
    "import altair as alt\n",
    "import string\n",
    "import inspect\n",
    "from hashlib import sha1\n",
    "import matplotlib.pyplot as plt\n"
   ]
  },
  {
   "cell_type": "code",
   "execution_count": null,
   "metadata": {},
   "outputs": [],
   "source": [
    "movies = pd.read_csv(\"data/disney_movies_total_gross.csv\")"
   ]
  },
  {
   "cell_type": "code",
   "execution_count": null,
   "metadata": {},
   "outputs": [],
   "source": [
    "movies.head()"
   ]
  },
  {
   "cell_type": "code",
   "execution_count": null,
   "metadata": {},
   "outputs": [],
   "source": [
    "movies.describe()"
   ]
  },
  {
   "cell_type": "code",
   "execution_count": null,
   "metadata": {},
   "outputs": [],
   "source": [
    "movies.info()"
   ]
  },
  {
   "cell_type": "markdown",
   "metadata": {},
   "source": [
    "## Here we see that datatype of all the column is object. Lets convert them to correct datatype so we can perform analysis"
   ]
  },
  {
   "cell_type": "code",
   "execution_count": null,
   "metadata": {},
   "outputs": [],
   "source": [
    "# Remove dollar signs and commas from the \"inflation_adjusted_gross\" column\n",
    "movies['inflation_adjusted_gross'] = movies['inflation_adjusted_gross'].str.replace('$', '').str.replace(',', '')"
   ]
  },
  {
   "cell_type": "code",
   "execution_count": null,
   "metadata": {},
   "outputs": [],
   "source": [
    "#Convert the \"inflation_adjusted_gross\" column to integer\n",
    "movies['inflation_adjusted_gross'] = movies['inflation_adjusted_gross'].astype(int)"
   ]
  },
  {
   "cell_type": "code",
   "execution_count": null,
   "metadata": {},
   "outputs": [],
   "source": [
    "movies['total_gross'] = movies['total_gross'].str.replace('$', '').str.replace(',', '')"
   ]
  },
  {
   "cell_type": "code",
   "execution_count": null,
   "metadata": {},
   "outputs": [],
   "source": [
    "#Convert the \"total_gross\" column to integer\n",
    "movies['total_gross'] = movies['total_gross'].astype(int)"
   ]
  },
  {
   "cell_type": "code",
   "execution_count": null,
   "metadata": {},
   "outputs": [],
   "source": [
    "movies['release_date'] = pd.to_datetime(movies['release_date'])"
   ]
  },
  {
   "cell_type": "markdown",
   "metadata": {},
   "source": [
    "## lets find out top 10 movies which did the best business in the market:"
   ]
  },
  {
   "cell_type": "code",
   "execution_count": null,
   "metadata": {},
   "outputs": [],
   "source": [
    "top_movies = movies.sort_values('inflation_adjusted_gross', ascending=False)\n",
    "\n",
    "# Display the top 10 movies \n",
    "top_movies.head(10)"
   ]
  },
  {
   "cell_type": "markdown",
   "metadata": {},
   "source": [
    "## now lets see the best movie from each genre"
   ]
  },
  {
   "cell_type": "code",
   "execution_count": null,
   "metadata": {},
   "outputs": [],
   "source": [
    "genre_wise_best= movies.groupby(\"genre\")['movie_title', 'inflation_adjusted_gross'].max()\n",
    "genre_wise_best"
   ]
  },
  {
   "cell_type": "markdown",
   "metadata": {
    "tags": []
   },
   "source": [
    "##lets explore MPAA_rating column. From describe(), we can see that there are 5 unique entries for this column, i.e, PG, G, PG-13, R and Not rated. From https://en.wikipedia.org/wiki/Motion_Picture_Association_film_rating_system , PG = Parentl Guidance, G - General Audience, PG-13 = Parents Strongly Cautioned and R = Restricted. "
   ]
  },
  {
   "cell_type": "code",
   "execution_count": null,
   "metadata": {},
   "outputs": [],
   "source": [
    "rating_counts = movies['MPAA_rating'].value_counts()\n",
    "rating_counts"
   ]
  },
  {
   "cell_type": "code",
   "execution_count": null,
   "metadata": {},
   "outputs": [],
   "source": [
    "plt.figure(figsize=(10, 5))\n",
    "plt.bar(rating_counts.index, rating_counts)\n",
    "plt.title('Number of Movies per MPAA Rating')\n",
    "plt.xlabel('MPAA Rating')\n",
    "plt.ylabel('Number of Movies')\n",
    "plt.xticks(rotation=45)\n",
    "plt.show()"
   ]
  },
  {
   "cell_type": "markdown",
   "metadata": {},
   "source": [
    "## Lets find out if there is any trend between the ,MP rating and business done by disney movies:"
   ]
  },
  {
   "cell_type": "code",
   "execution_count": null,
   "metadata": {},
   "outputs": [],
   "source": [
    "average_gross = movies.groupby('MPAA_rating')['inflation_adjusted_gross'].mean()"
   ]
  },
  {
   "cell_type": "code",
   "execution_count": null,
   "metadata": {},
   "outputs": [],
   "source": [
    "plt.figure(figsize=(10, 5))\n",
    "plt.bar(average_gross.index, average_gross)\n",
    "plt.title('Average Inflation Adjusted Gross per MPAA Rating')\n",
    "plt.xlabel('MPAA Rating')\n",
    "plt.ylabel('Average Inflation Adjusted Gross')\n",
    "plt.xticks(rotation=45)\n",
    "plt.show()"
   ]
  },
  {
   "cell_type": "markdown",
   "metadata": {},
   "source": [
    "##here we found out that although least number of movies were 'not rated' but those movies did maximum of the business.However, movies made for general audiences also did good business."
   ]
  },
  {
   "cell_type": "markdown",
   "metadata": {},
   "source": [
    "## From the above stats, it seems that some genre are more polpular than others. lets find out movie genre trend"
   ]
  },
  {
   "cell_type": "code",
   "execution_count": null,
   "metadata": {
    "tags": []
   },
   "outputs": [],
   "source": [
    "## finding release year from release date column\n",
    "movies['release_year'] = movies['release_date'].dt.year"
   ]
  },
  {
   "cell_type": "code",
   "execution_count": null,
   "metadata": {},
   "outputs": [],
   "source": [
    "\n",
    "\n",
    "# Group the movies data by 'genre' and 'release_year', and compute the mean 'adjusted_gross' for each group\n",
    "grouped_movies = movies.groupby(['genre', 'release_year'])['inflation_adjusted_gross'].mean().reset_index()\n",
    "\n",
    "# Display the first 10 rows of the grouped_movies DataFrame\n",
    "print(grouped_movies.head(10))"
   ]
  },
  {
   "cell_type": "code",
   "execution_count": null,
   "metadata": {},
   "outputs": [],
   "source": [
    "# Create a plot for the genre with the highest mean adjusted gross in each year\n",
    "plt.figure(figsize=(12, 6))\n",
    "for genre, df in grouped_movies.groupby('genre'):\n",
    "    df.plot(x='release_year', y='inflation_adjusted_gross', label=genre)\n",
    "plt.title('Box Office Revenues of Movies Grouped by Genre and Release Year')\n",
    "plt.xlabel('Release Year')\n",
    "plt.ylabel('Adjusted Gross (in millions)')\n",
    "plt.legend()\n",
    "plt.show()"
   ]
  },
  {
   "cell_type": "code",
   "execution_count": null,
   "metadata": {},
   "outputs": [],
   "source": [
    "\n",
    "grouped_data = grouped_movies.groupby('genre')\n",
    "\n",
    "# Plot the data\n",
    "for genre, genre_data in grouped_data:\n",
    "    plt.plot(genre_data['release_year'], genre_data['inflation_adjusted_gross'], label=genre)\n",
    "\n",
    "# Set up the plot\n",
    "plt.title('Box Office Revenues of Movies Grouped by Genre and Release Year')\n",
    "plt.xlabel('Release Year')\n",
    "plt.ylabel('Adjusted Gross (in millions)')\n",
    "plt.legend()\n",
    "plt.show()"
   ]
  },
  {
   "cell_type": "markdown",
   "metadata": {},
   "source": [
    "##From the above line plot, we can see that action genre was growing the fastest. However musical dropped significantly. Thus, disney's movie genre were changing in terms of popularity over the period of time"
   ]
  },
  {
   "cell_type": "markdown",
   "metadata": {},
   "source": [
    "## lets explore other 2 datasets now"
   ]
  },
  {
   "cell_type": "code",
   "execution_count": null,
   "metadata": {},
   "outputs": [],
   "source": [
    "director = pd.read_csv(\"data/disney-director.csv\")"
   ]
  },
  {
   "cell_type": "code",
   "execution_count": null,
   "metadata": {},
   "outputs": [],
   "source": [
    "director"
   ]
  },
  {
   "cell_type": "code",
   "execution_count": null,
   "metadata": {},
   "outputs": [],
   "source": [
    "voice = pd.read_csv(\"data/disney-voice-actors.csv\")"
   ]
  },
  {
   "cell_type": "code",
   "execution_count": null,
   "metadata": {},
   "outputs": [],
   "source": [
    "voice"
   ]
  },
  {
   "cell_type": "markdown",
   "metadata": {},
   "source": [
    "## lets create a function named \"merge_dataframes_inner \" to merge 2 datsets and merge datasets director and voice in one dataset named voice_director"
   ]
  },
  {
   "cell_type": "code",
   "execution_count": null,
   "metadata": {},
   "outputs": [],
   "source": [
    "\n",
    "\n",
    "def merge_dataframes_inner(df1, df2, common_column):\n",
    "    \"\"\"\n",
    "    Merge two DataFrames using an inner join on a common column.\n",
    "\n",
    "    Parameters\n",
    "    ----------\n",
    "    df1: DataFrame\n",
    "      The first DataFrame to be merged.\n",
    "    df2: DataFrame\n",
    "      The second DataFrame to be merged.\n",
    "    common_column: str\n",
    "      The name of the common column to perform the inner join.\n",
    "\n",
    "    Returns\n",
    "    ----------\n",
    "    merged_df: DataFrame\n",
    "      The resulting DataFrame after merging the two input DataFrames using an inner join on the common column.\n",
    "      \n",
    "    Examples\n",
    "    ----------\n",
    "    \n",
    "    df1 = pd.DataFrame({\n",
    "    'ID': [1, 2, 3, 4],\n",
    "    'Name': ['Alice', 'Bob', 'Charlie', 'David']\n",
    "})\n",
    "\n",
    "    df2 = pd.DataFrame({\n",
    "    'ID': [3, 4, 5, 6],\n",
    "    'Age': [25, 30, 22, 28]\n",
    "})\n",
    "    \"\"\"\n",
    "    merged_df = pd.merge(df1, df2, on=common_column, how='inner')\n",
    "    return merged_df\n",
    "\n"
   ]
  },
  {
   "cell_type": "code",
   "execution_count": null,
   "metadata": {},
   "outputs": [],
   "source": [
    "# Rename the 'name' column in the 'director' dataframe to 'movie' for a consistent column name\n",
    "director = director.rename(columns={'name': 'movie'})\n",
    "\n",
    "#Calling the function to merge the datasets\n",
    "voice_director = merge_dataframes_inner(director, voice, 'movie')\n",
    "voice_director\n",
    "\n"
   ]
  },
  {
   "cell_type": "markdown",
   "metadata": {},
   "source": [
    "## unit testing"
   ]
  },
  {
   "cell_type": "code",
   "execution_count": null,
   "metadata": {},
   "outputs": [],
   "source": [
    "# Helper DataFrames for unit tests\n",
    "df1 = pd.DataFrame({\n",
    "    'ID': [1, 2, 3, 4],\n",
    "    'Name': ['Alice', 'Bob', 'Charlie', 'David']\n",
    "})\n",
    "\n",
    "df2 = pd.DataFrame({\n",
    "    'ID': [3, 4, 5, 6],\n",
    "    'Age': [25, 30, 22, 28]\n",
    "})\n",
    "\n",
    "# Unit test 1: Test merging on 'ID'\n",
    "merged_result = merge_dataframes_inner(df1, df2, 'ID')\n",
    "expected_result = pd.DataFrame({\n",
    "    'ID': [3, 4],\n",
    "    'Name': ['Charlie', 'David'],\n",
    "    'Age': [22, 28]\n",
    "})\n",
    "merged_result.shape == expected_result.shape\n",
    "\n",
    "\n"
   ]
  },
  {
   "cell_type": "code",
   "execution_count": null,
   "metadata": {},
   "outputs": [],
   "source": [
    "voice_director.describe()"
   ]
  },
  {
   "cell_type": "code",
   "execution_count": null,
   "metadata": {},
   "outputs": [],
   "source": [
    "voice_director.isnull()"
   ]
  },
  {
   "cell_type": "code",
   "execution_count": null,
   "metadata": {},
   "outputs": [],
   "source": [
    "voice_director.head()"
   ]
  },
  {
   "cell_type": "markdown",
   "metadata": {},
   "source": [
    "## Lets find out which director wortked with maximum number of voice-actors in their movie"
   ]
  },
  {
   "cell_type": "code",
   "execution_count": null,
   "metadata": {},
   "outputs": [],
   "source": [
    "\n",
    "\n",
    "## using chaining for group by director and then get the unique values for voice-actors who worked with the director\n",
    "director_voice_actor_count = voice_director.groupby('director')['voice-actor'].nunique().reset_index(name='voice_actor_count')\n",
    "director_voice_actor_count = director_voice_actor_count.sort_values(by='voice_actor_count', ascending=False)\n",
    "\n",
    "print(director_voice_actor_count)"
   ]
  },
  {
   "cell_type": "markdown",
   "metadata": {},
   "source": [
    "## Lets find out the movie which used max numbers of voice artists"
   ]
  },
  {
   "cell_type": "code",
   "execution_count": null,
   "metadata": {},
   "outputs": [],
   "source": [
    "movie_voice_actor_count = voice.groupby('movie')['voice-actor'].nunique().reset_index(name='voice_actor_count')\n",
    "movie_voice_actor_count = movie_voice_actor_count.sort_values(by='voice_actor_count', ascending=False)\n",
    "\n",
    "print(movie_voice_actor_count)"
   ]
  },
  {
   "cell_type": "markdown",
   "metadata": {},
   "source": [
    "##Who directed the movie with maximum number of voice artists in it? What was the name of the movie and what was the count of voice actor?"
   ]
  },
  {
   "cell_type": "markdown",
   "metadata": {},
   "source": [
    "## Ques: Find out the name of movie in which maximum number of voice-actors were used? Also find out the count of voice actors and the director who directed that movie? "
   ]
  },
  {
   "cell_type": "code",
   "execution_count": null,
   "metadata": {},
   "outputs": [],
   "source": [
    "\n",
    "\n",
    "# Create a new column to count the number of voice actors per movie\n",
    "voice_director['voice_actor_count'] = voice_director.groupby('movie')['voice-actor'].transform('count')\n",
    "\n",
    "# Filter the dataset to include only the rows of the movie with the maximum number of voice actors\n",
    "max_voice_actors_movie = voice_director[voice_director['voice_actor_count'] == voice_director['voice_actor_count'].max()]\n",
    "\n",
    "# Print the movie details\n",
    "print(max_voice_actors_movie[['movie', 'director', 'voice_actor_count']].drop_duplicates())\n"
   ]
  },
  {
   "cell_type": "markdown",
   "metadata": {},
   "source": [
    "#lets find out top 10 movies"
   ]
  },
  {
   "cell_type": "markdown",
   "metadata": {},
   "source": [
    "## using black for improving function"
   ]
  },
  {
   "cell_type": "code",
   "execution_count": null,
   "metadata": {},
   "outputs": [],
   "source": [
    "!black my_functions.py"
   ]
  },
  {
   "cell_type": "code",
   "execution_count": null,
   "metadata": {},
   "outputs": [],
   "source": [
    "!black test_my_function.py"
   ]
  },
  {
   "cell_type": "markdown",
   "metadata": {},
   "source": [
    "## using pytest"
   ]
  },
  {
   "cell_type": "code",
   "execution_count": null,
   "metadata": {},
   "outputs": [],
   "source": [
    "import pytest"
   ]
  },
  {
   "cell_type": "code",
   "execution_count": null,
   "metadata": {},
   "outputs": [],
   "source": [
    "pytest"
   ]
  },
  {
   "cell_type": "code",
   "execution_count": null,
   "metadata": {},
   "outputs": [],
   "source": [
    "!pytest test_my_function.py"
   ]
  },
  {
   "cell_type": "markdown",
   "metadata": {},
   "source": [
    "### Thank you :)"
   ]
  },
  {
   "cell_type": "code",
   "execution_count": null,
   "metadata": {},
   "outputs": [],
   "source": []
  }
 ],
 "metadata": {
  "kernelspec": {
   "display_name": "Python 3",
   "language": "python",
   "name": "python3"
  },
  "language_info": {
   "codemirror_mode": {
    "name": "ipython",
    "version": 3
   },
   "file_extension": ".py",
   "mimetype": "text/x-python",
   "name": "python",
   "nbconvert_exporter": "python",
   "pygments_lexer": "ipython3",
   "version": "3.8.5"
  }
 },
 "nbformat": 4,
 "nbformat_minor": 4
}
